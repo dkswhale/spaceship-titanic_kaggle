{
 "cells": [
  {
   "cell_type": "code",
   "execution_count": 1,
   "metadata": {},
   "outputs": [
    {
     "name": "stdout",
     "output_type": "stream",
     "text": [
      "Defaulting to user installation because normal site-packages is not writeable\n",
      "Requirement already satisfied: matplotlib in /Users/dkim/Library/Python/3.9/lib/python/site-packages (3.8.2)\n",
      "Requirement already satisfied: kiwisolver>=1.3.1 in /Users/dkim/Library/Python/3.9/lib/python/site-packages (from matplotlib) (1.4.5)\n",
      "Requirement already satisfied: fonttools>=4.22.0 in /Users/dkim/Library/Python/3.9/lib/python/site-packages (from matplotlib) (4.47.2)\n",
      "Requirement already satisfied: numpy<2,>=1.21 in /Users/dkim/Library/Python/3.9/lib/python/site-packages (from matplotlib) (1.26.3)\n",
      "Requirement already satisfied: packaging>=20.0 in /Users/dkim/Library/Python/3.9/lib/python/site-packages (from matplotlib) (23.2)\n",
      "Requirement already satisfied: python-dateutil>=2.7 in /Users/dkim/Library/Python/3.9/lib/python/site-packages (from matplotlib) (2.8.2)\n",
      "Requirement already satisfied: cycler>=0.10 in /Users/dkim/Library/Python/3.9/lib/python/site-packages (from matplotlib) (0.12.1)\n",
      "Requirement already satisfied: pyparsing>=2.3.1 in /Users/dkim/Library/Python/3.9/lib/python/site-packages (from matplotlib) (3.1.1)\n",
      "Requirement already satisfied: importlib-resources>=3.2.0 in /Users/dkim/Library/Python/3.9/lib/python/site-packages (from matplotlib) (6.1.1)\n",
      "Requirement already satisfied: pillow>=8 in /Users/dkim/Library/Python/3.9/lib/python/site-packages (from matplotlib) (10.2.0)\n",
      "Requirement already satisfied: contourpy>=1.0.1 in /Users/dkim/Library/Python/3.9/lib/python/site-packages (from matplotlib) (1.2.0)\n",
      "Requirement already satisfied: zipp>=3.1.0 in /Users/dkim/Library/Python/3.9/lib/python/site-packages (from importlib-resources>=3.2.0->matplotlib) (3.17.0)\n",
      "Requirement already satisfied: six>=1.5 in /Library/Developer/CommandLineTools/Library/Frameworks/Python3.framework/Versions/3.9/lib/python3.9/site-packages (from python-dateutil>=2.7->matplotlib) (1.15.0)\n",
      "\u001b[33mWARNING: You are using pip version 21.2.4; however, version 23.3.2 is available.\n",
      "You should consider upgrading via the '/Library/Developer/CommandLineTools/usr/bin/python3 -m pip install --upgrade pip' command.\u001b[0m\n",
      "Note: you may need to restart the kernel to use updated packages.\n",
      "Defaulting to user installation because normal site-packages is not writeable\n",
      "Requirement already satisfied: seaborn in /Users/dkim/Library/Python/3.9/lib/python/site-packages (0.13.2)\n",
      "Requirement already satisfied: matplotlib!=3.6.1,>=3.4 in /Users/dkim/Library/Python/3.9/lib/python/site-packages (from seaborn) (3.8.2)\n",
      "Requirement already satisfied: pandas>=1.2 in /Users/dkim/Library/Python/3.9/lib/python/site-packages (from seaborn) (2.2.0)\n",
      "Requirement already satisfied: numpy!=1.24.0,>=1.20 in /Users/dkim/Library/Python/3.9/lib/python/site-packages (from seaborn) (1.26.3)\n",
      "Requirement already satisfied: pillow>=8 in /Users/dkim/Library/Python/3.9/lib/python/site-packages (from matplotlib!=3.6.1,>=3.4->seaborn) (10.2.0)\n",
      "Requirement already satisfied: cycler>=0.10 in /Users/dkim/Library/Python/3.9/lib/python/site-packages (from matplotlib!=3.6.1,>=3.4->seaborn) (0.12.1)\n",
      "Requirement already satisfied: python-dateutil>=2.7 in /Users/dkim/Library/Python/3.9/lib/python/site-packages (from matplotlib!=3.6.1,>=3.4->seaborn) (2.8.2)\n",
      "Requirement already satisfied: contourpy>=1.0.1 in /Users/dkim/Library/Python/3.9/lib/python/site-packages (from matplotlib!=3.6.1,>=3.4->seaborn) (1.2.0)\n",
      "Requirement already satisfied: kiwisolver>=1.3.1 in /Users/dkim/Library/Python/3.9/lib/python/site-packages (from matplotlib!=3.6.1,>=3.4->seaborn) (1.4.5)\n",
      "Requirement already satisfied: pyparsing>=2.3.1 in /Users/dkim/Library/Python/3.9/lib/python/site-packages (from matplotlib!=3.6.1,>=3.4->seaborn) (3.1.1)\n",
      "Requirement already satisfied: packaging>=20.0 in /Users/dkim/Library/Python/3.9/lib/python/site-packages (from matplotlib!=3.6.1,>=3.4->seaborn) (23.2)\n",
      "Requirement already satisfied: fonttools>=4.22.0 in /Users/dkim/Library/Python/3.9/lib/python/site-packages (from matplotlib!=3.6.1,>=3.4->seaborn) (4.47.2)\n",
      "Requirement already satisfied: importlib-resources>=3.2.0 in /Users/dkim/Library/Python/3.9/lib/python/site-packages (from matplotlib!=3.6.1,>=3.4->seaborn) (6.1.1)\n",
      "Requirement already satisfied: zipp>=3.1.0 in /Users/dkim/Library/Python/3.9/lib/python/site-packages (from importlib-resources>=3.2.0->matplotlib!=3.6.1,>=3.4->seaborn) (3.17.0)\n",
      "Requirement already satisfied: tzdata>=2022.7 in /Users/dkim/Library/Python/3.9/lib/python/site-packages (from pandas>=1.2->seaborn) (2023.4)\n",
      "Requirement already satisfied: pytz>=2020.1 in /Users/dkim/Library/Python/3.9/lib/python/site-packages (from pandas>=1.2->seaborn) (2023.4)\n",
      "Requirement already satisfied: six>=1.5 in /Library/Developer/CommandLineTools/Library/Frameworks/Python3.framework/Versions/3.9/lib/python3.9/site-packages (from python-dateutil>=2.7->matplotlib!=3.6.1,>=3.4->seaborn) (1.15.0)\n",
      "\u001b[33mWARNING: You are using pip version 21.2.4; however, version 23.3.2 is available.\n",
      "You should consider upgrading via the '/Library/Developer/CommandLineTools/usr/bin/python3 -m pip install --upgrade pip' command.\u001b[0m\n",
      "Note: you may need to restart the kernel to use updated packages.\n",
      "Defaulting to user installation because normal site-packages is not writeable\n",
      "Requirement already satisfied: numpy in /Users/dkim/Library/Python/3.9/lib/python/site-packages (1.26.3)\n",
      "\u001b[33mWARNING: You are using pip version 21.2.4; however, version 23.3.2 is available.\n",
      "You should consider upgrading via the '/Library/Developer/CommandLineTools/usr/bin/python3 -m pip install --upgrade pip' command.\u001b[0m\n",
      "Note: you may need to restart the kernel to use updated packages.\n",
      "Defaulting to user installation because normal site-packages is not writeable\n",
      "Requirement already satisfied: sklearn in /Users/dkim/Library/Python/3.9/lib/python/site-packages (0.0)\n",
      "Requirement already satisfied: scikit-learn in /Users/dkim/Library/Python/3.9/lib/python/site-packages (from sklearn) (1.4.0)\n",
      "Requirement already satisfied: numpy<2.0,>=1.19.5 in /Users/dkim/Library/Python/3.9/lib/python/site-packages (from scikit-learn->sklearn) (1.26.3)\n",
      "Requirement already satisfied: joblib>=1.2.0 in /Users/dkim/Library/Python/3.9/lib/python/site-packages (from scikit-learn->sklearn) (1.3.2)\n",
      "Requirement already satisfied: threadpoolctl>=2.0.0 in /Users/dkim/Library/Python/3.9/lib/python/site-packages (from scikit-learn->sklearn) (3.2.0)\n",
      "Requirement already satisfied: scipy>=1.6.0 in /Users/dkim/Library/Python/3.9/lib/python/site-packages (from scikit-learn->sklearn) (1.12.0)\n",
      "\u001b[33mWARNING: You are using pip version 21.2.4; however, version 23.3.2 is available.\n",
      "You should consider upgrading via the '/Library/Developer/CommandLineTools/usr/bin/python3 -m pip install --upgrade pip' command.\u001b[0m\n",
      "Note: you may need to restart the kernel to use updated packages.\n"
     ]
    }
   ],
   "source": [
    "%pip install matplotlib\n",
    "%pip install seaborn\n",
    "%pip install numpy\n",
    "%pip install sklearn"
   ]
  },
  {
   "cell_type": "code",
   "execution_count": 2,
   "metadata": {},
   "outputs": [
    {
     "name": "stderr",
     "output_type": "stream",
     "text": [
      "/var/folders/gd/0dt483qd2cg3cqgcsrx3pnkr0000gp/T/ipykernel_80773/3381811058.py:1: DeprecationWarning: \n",
      "Pyarrow will become a required dependency of pandas in the next major release of pandas (pandas 3.0),\n",
      "(to allow more performant data types, such as the Arrow string type, and better interoperability with other libraries)\n",
      "but was not found to be installed on your system.\n",
      "If this would cause problems for you,\n",
      "please provide us feedback at https://github.com/pandas-dev/pandas/issues/54466\n",
      "        \n",
      "  import pandas as pd\n"
     ]
    }
   ],
   "source": [
    "import pandas as pd\n",
    "import matplotlib.pyplot as plt\n",
    "import seaborn as sns\n",
    "import numpy as np"
   ]
  },
  {
   "cell_type": "code",
   "execution_count": 3,
   "metadata": {},
   "outputs": [],
   "source": [
    "df_train = pd.read_csv('train.csv')\n",
    "df_test = pd.read_csv('test.csv')"
   ]
  },
  {
   "cell_type": "code",
   "execution_count": 4,
   "metadata": {},
   "outputs": [],
   "source": [
    "# function that will combine train and test set, creating a column 'is_train'\n",
    "# for later when we separate them back\n",
    "def concat_df(train, test):\n",
    "    test['is_train'] = False\n",
    "    train['is_train'] = True\n",
    "    combined = pd.concat([train, test], sort=False)\n",
    "    return combined\n",
    "\n",
    "# function that will separate the combined df\n",
    "def separate_df(combined):\n",
    "    train = combined[combined['is_train'] == True].drop('is_train', axis=1)\n",
    "    test = combined[combined['is_train'] == False].drop('is_train', axis=1)\n",
    "    return train, test"
   ]
  },
  {
   "cell_type": "code",
   "execution_count": 5,
   "metadata": {},
   "outputs": [],
   "source": [
    "# combine test and train data to preprocess the data all together.\n",
    "df_combined = concat_df(df_train, df_test)"
   ]
  },
  {
   "cell_type": "code",
   "execution_count": 6,
   "metadata": {},
   "outputs": [
    {
     "name": "stdout",
     "output_type": "stream",
     "text": [
      "<class 'pandas.core.frame.DataFrame'>\n",
      "Index: 12970 entries, 0 to 4276\n",
      "Data columns (total 15 columns):\n",
      " #   Column        Non-Null Count  Dtype  \n",
      "---  ------        --------------  -----  \n",
      " 0   PassengerId   12970 non-null  object \n",
      " 1   HomePlanet    12682 non-null  object \n",
      " 2   CryoSleep     12660 non-null  object \n",
      " 3   Cabin         12671 non-null  object \n",
      " 4   Destination   12696 non-null  object \n",
      " 5   Age           12700 non-null  float64\n",
      " 6   VIP           12674 non-null  object \n",
      " 7   RoomService   12707 non-null  float64\n",
      " 8   FoodCourt     12681 non-null  float64\n",
      " 9   ShoppingMall  12664 non-null  float64\n",
      " 10  Spa           12686 non-null  float64\n",
      " 11  VRDeck        12702 non-null  float64\n",
      " 12  Name          12676 non-null  object \n",
      " 13  Transported   8693 non-null   object \n",
      " 14  is_train      12970 non-null  bool   \n",
      "dtypes: bool(1), float64(6), object(8)\n",
      "memory usage: 1.5+ MB\n"
     ]
    }
   ],
   "source": [
    "df_combined.info()"
   ]
  },
  {
   "cell_type": "code",
   "execution_count": 7,
   "metadata": {},
   "outputs": [
    {
     "name": "stderr",
     "output_type": "stream",
     "text": [
      "/var/folders/gd/0dt483qd2cg3cqgcsrx3pnkr0000gp/T/ipykernel_80773/1822519467.py:8: FutureWarning: Downcasting object dtype arrays on .fillna, .ffill, .bfill is deprecated and will change in a future version. Call result.infer_objects(copy=False) instead. To opt-in to the future behavior, set `pd.set_option('future.no_silent_downcasting', True)`\n",
      "  df_combined.loc[condition, vip] = df_combined.loc[condition, vip].fillna(False)\n"
     ]
    }
   ],
   "source": [
    "# If a person is in cryosleep, they would not be able to spend any money so\n",
    "# we can fill null with 0 for money spent columns and false for VIP column\n",
    "money_col = ['RoomService', 'FoodCourt', 'ShoppingMall', 'Spa', 'VRDeck']\n",
    "vip = ['VIP']\n",
    "condition = (df_combined['CryoSleep'] == True)\n",
    "\n",
    "df_combined.loc[condition, money_col] = df_combined.loc[condition, money_col].fillna(0)\n",
    "df_combined.loc[condition, vip] = df_combined.loc[condition, vip].fillna(False)"
   ]
  },
  {
   "cell_type": "code",
   "execution_count": 8,
   "metadata": {},
   "outputs": [
    {
     "name": "stderr",
     "output_type": "stream",
     "text": [
      "/var/folders/gd/0dt483qd2cg3cqgcsrx3pnkr0000gp/T/ipykernel_80773/3845885266.py:7: FutureWarning: Downcasting object dtype arrays on .fillna, .ffill, .bfill is deprecated and will change in a future version. Call result.infer_objects(copy=False) instead. To opt-in to the future behavior, set `pd.set_option('future.no_silent_downcasting', True)`\n",
      "  df_combined.loc[condition, cryo] = df_combined.loc[condition, cryo].fillna(True)\n",
      "/var/folders/gd/0dt483qd2cg3cqgcsrx3pnkr0000gp/T/ipykernel_80773/3845885266.py:8: FutureWarning: A value is trying to be set on a copy of a DataFrame or Series through chained assignment using an inplace method.\n",
      "The behavior will change in pandas 3.0. This inplace method will never work because the intermediate object on which we are setting values always behaves as a copy.\n",
      "\n",
      "For example, when doing 'df[col].method(value, inplace=True)', try using 'df.method({col: value}, inplace=True)' or df[col] = df[col].method(value) instead, to perform the operation inplace on the original object.\n",
      "\n",
      "\n",
      "  df_combined['CryoSleep'].fillna(False, inplace=True)\n",
      "/var/folders/gd/0dt483qd2cg3cqgcsrx3pnkr0000gp/T/ipykernel_80773/3845885266.py:8: FutureWarning: Downcasting object dtype arrays on .fillna, .ffill, .bfill is deprecated and will change in a future version. Call result.infer_objects(copy=False) instead. To opt-in to the future behavior, set `pd.set_option('future.no_silent_downcasting', True)`\n",
      "  df_combined['CryoSleep'].fillna(False, inplace=True)\n"
     ]
    }
   ],
   "source": [
    "# If a person have not spent any money, it is likely that person is in cryosleep.\n",
    "cryo = ['CryoSleep']\n",
    "\n",
    "# the condition is True if all the money_col values are 0\n",
    "condition = (df_combined[money_col].eq(0).all(axis=1))\n",
    "\n",
    "df_combined.loc[condition, cryo] = df_combined.loc[condition, cryo].fillna(True)\n",
    "df_combined['CryoSleep'].fillna(False, inplace=True)"
   ]
  },
  {
   "cell_type": "code",
   "execution_count": 9,
   "metadata": {},
   "outputs": [
    {
     "data": {
      "text/plain": [
       "PassengerId        0\n",
       "HomePlanet       288\n",
       "CryoSleep          0\n",
       "Cabin            299\n",
       "Destination      274\n",
       "Age              270\n",
       "VIP              192\n",
       "RoomService      170\n",
       "FoodCourt        180\n",
       "ShoppingMall     175\n",
       "Spa              177\n",
       "VRDeck           177\n",
       "Name             294\n",
       "Transported     4277\n",
       "is_train           0\n",
       "dtype: int64"
      ]
     },
     "execution_count": 9,
     "metadata": {},
     "output_type": "execute_result"
    }
   ],
   "source": [
    "df_combined.isna().sum()"
   ]
  },
  {
   "cell_type": "code",
   "execution_count": null,
   "metadata": {},
   "outputs": [],
   "source": [
    "# since 'Cabin' column has three components, we can slit them into three columns\n",
    "\n",
    "cabin_split = df_combined['Cabin'].str.split('/', expand=True)\n",
    "cabin_split.columns = ['Deck', 'RoomNumber', 'Side']\n",
    "ndf = pd.concat([df_combined, cabin_split], axis=1)\n",
    "df_combined = ndf\n",
    "df_combined.drop(columns=['Cabin'], inplace=True)\n"
   ]
  },
  {
   "cell_type": "code",
   "execution_count": null,
   "metadata": {},
   "outputs": [],
   "source": [
    "# compute mode of HomePlanet, Destination and impute it for null\n",
    "\n",
    "mode_homeplanet = df_combined['HomePlanet'].mode()[0]\n",
    "mode_destination = df_combined['Destination'].mode()[0]\n",
    "\n",
    "df_combined['HomePlanet'].fillna(mode_homeplanet, inplace=True)\n",
    "df_combined['Destination'].fillna(mode_destination, inplace=True)"
   ]
  },
  {
   "cell_type": "code",
   "execution_count": null,
   "metadata": {},
   "outputs": [],
   "source": [
    "# change boolean variable cryosleep to integer values\n",
    "df_combined['CryoSleep'] = df_combined['CryoSleep'].astype(int)"
   ]
  },
  {
   "cell_type": "code",
   "execution_count": 16,
   "metadata": {},
   "outputs": [
    {
     "data": {
      "text/html": [
       "<div>\n",
       "<style scoped>\n",
       "    .dataframe tbody tr th:only-of-type {\n",
       "        vertical-align: middle;\n",
       "    }\n",
       "\n",
       "    .dataframe tbody tr th {\n",
       "        vertical-align: top;\n",
       "    }\n",
       "\n",
       "    .dataframe thead th {\n",
       "        text-align: right;\n",
       "    }\n",
       "</style>\n",
       "<table border=\"1\" class=\"dataframe\">\n",
       "  <thead>\n",
       "    <tr style=\"text-align: right;\">\n",
       "      <th></th>\n",
       "      <th>CryoSleep</th>\n",
       "      <th>Age</th>\n",
       "      <th>RoomService</th>\n",
       "      <th>FoodCourt</th>\n",
       "      <th>ShoppingMall</th>\n",
       "      <th>Spa</th>\n",
       "      <th>VRDeck</th>\n",
       "    </tr>\n",
       "  </thead>\n",
       "  <tbody>\n",
       "    <tr>\n",
       "      <th>count</th>\n",
       "      <td>12970.000000</td>\n",
       "      <td>12700.000000</td>\n",
       "      <td>12970.000000</td>\n",
       "      <td>12970.000000</td>\n",
       "      <td>12970.000000</td>\n",
       "      <td>12970.000000</td>\n",
       "      <td>12970.000000</td>\n",
       "    </tr>\n",
       "    <tr>\n",
       "      <th>mean</th>\n",
       "      <td>0.362683</td>\n",
       "      <td>28.771969</td>\n",
       "      <td>218.378026</td>\n",
       "      <td>441.890979</td>\n",
       "      <td>170.779491</td>\n",
       "      <td>301.722282</td>\n",
       "      <td>300.450270</td>\n",
       "    </tr>\n",
       "    <tr>\n",
       "      <th>std</th>\n",
       "      <td>0.480793</td>\n",
       "      <td>14.387261</td>\n",
       "      <td>641.766201</td>\n",
       "      <td>1568.038076</td>\n",
       "      <td>584.153630</td>\n",
       "      <td>1118.746785</td>\n",
       "      <td>1168.655639</td>\n",
       "    </tr>\n",
       "    <tr>\n",
       "      <th>min</th>\n",
       "      <td>0.000000</td>\n",
       "      <td>0.000000</td>\n",
       "      <td>0.000000</td>\n",
       "      <td>0.000000</td>\n",
       "      <td>0.000000</td>\n",
       "      <td>0.000000</td>\n",
       "      <td>0.000000</td>\n",
       "    </tr>\n",
       "    <tr>\n",
       "      <th>25%</th>\n",
       "      <td>0.000000</td>\n",
       "      <td>19.000000</td>\n",
       "      <td>0.000000</td>\n",
       "      <td>0.000000</td>\n",
       "      <td>0.000000</td>\n",
       "      <td>0.000000</td>\n",
       "      <td>0.000000</td>\n",
       "    </tr>\n",
       "    <tr>\n",
       "      <th>50%</th>\n",
       "      <td>0.000000</td>\n",
       "      <td>27.000000</td>\n",
       "      <td>0.000000</td>\n",
       "      <td>0.000000</td>\n",
       "      <td>0.000000</td>\n",
       "      <td>0.000000</td>\n",
       "      <td>0.000000</td>\n",
       "    </tr>\n",
       "    <tr>\n",
       "      <th>75%</th>\n",
       "      <td>1.000000</td>\n",
       "      <td>38.000000</td>\n",
       "      <td>42.750000</td>\n",
       "      <td>62.750000</td>\n",
       "      <td>23.000000</td>\n",
       "      <td>50.000000</td>\n",
       "      <td>36.000000</td>\n",
       "    </tr>\n",
       "    <tr>\n",
       "      <th>max</th>\n",
       "      <td>1.000000</td>\n",
       "      <td>79.000000</td>\n",
       "      <td>14327.000000</td>\n",
       "      <td>29813.000000</td>\n",
       "      <td>23492.000000</td>\n",
       "      <td>22408.000000</td>\n",
       "      <td>24133.000000</td>\n",
       "    </tr>\n",
       "  </tbody>\n",
       "</table>\n",
       "</div>"
      ],
      "text/plain": [
       "          CryoSleep           Age   RoomService     FoodCourt  ShoppingMall  \\\n",
       "count  12970.000000  12700.000000  12970.000000  12970.000000  12970.000000   \n",
       "mean       0.362683     28.771969    218.378026    441.890979    170.779491   \n",
       "std        0.480793     14.387261    641.766201   1568.038076    584.153630   \n",
       "min        0.000000      0.000000      0.000000      0.000000      0.000000   \n",
       "25%        0.000000     19.000000      0.000000      0.000000      0.000000   \n",
       "50%        0.000000     27.000000      0.000000      0.000000      0.000000   \n",
       "75%        1.000000     38.000000     42.750000     62.750000     23.000000   \n",
       "max        1.000000     79.000000  14327.000000  29813.000000  23492.000000   \n",
       "\n",
       "                Spa        VRDeck  \n",
       "count  12970.000000  12970.000000  \n",
       "mean     301.722282    300.450270  \n",
       "std     1118.746785   1168.655639  \n",
       "min        0.000000      0.000000  \n",
       "25%        0.000000      0.000000  \n",
       "50%        0.000000      0.000000  \n",
       "75%       50.000000     36.000000  \n",
       "max    22408.000000  24133.000000  "
      ]
     },
     "execution_count": 16,
     "metadata": {},
     "output_type": "execute_result"
    }
   ],
   "source": [
    "df_combined.describe()"
   ]
  },
  {
   "cell_type": "code",
   "execution_count": null,
   "metadata": {},
   "outputs": [],
   "source": [
    "# compute 1st IQR to replace null values in money_col\n",
    "\n",
    "cryo_sleep_1 = df_combined[df_combined['CryoSleep'] == 1]\n",
    "first_quartiles = cryo_sleep_1[money_col].quantile(0.25)\n",
    "print(first_quartiles['FoodCourt'])\n",
    "for col in money_col:\n",
    "    df_combined[col].fillna(first_quartiles[col], inplace=True)\n",
    "\n",
    "df_combined.isna().sum()"
   ]
  },
  {
   "cell_type": "code",
   "execution_count": null,
   "metadata": {},
   "outputs": [],
   "source": [
    "# group_means = df_combined.groupby(['HomePlanet', 'CryoSleep', 'Destination'])['Age'].mean()\n",
    "# print(group_means)"
   ]
  },
  {
   "cell_type": "code",
   "execution_count": null,
   "metadata": {},
   "outputs": [],
   "source": [
    "# fill in NA values for Age column\n",
    "\n",
    "group_means = df_combined.groupby(['CryoSleep', 'HomePlanet', 'Destination'], group_keys=True)['Age'].mean().reset_index(name='Age_mean')\n",
    "df_combined = df_combined.merge(group_means, on=['CryoSleep', 'HomePlanet', 'Destination'], how='left')\n",
    "df_combined['Age'] = df_combined['Age'].fillna(df_combined['Age_mean'])\n",
    "df_combined.drop(columns=['Age_mean'], inplace=True)"
   ]
  },
  {
   "cell_type": "code",
   "execution_count": null,
   "metadata": {},
   "outputs": [],
   "source": [
    "# group_mean_hpna = df_combined.groupby(['CryoSleep', 'Destination'], group_keys=True)['Age'].mean().reset_index(name='Age_mean_hpna')\n",
    "# group_mean_dtna = df_combined.groupby(['CryoSleep', 'HomePlanet'], group_keys=True)['Age'].mean().reset_index(name='Age_mean_dtna')\n",
    "\n",
    "# df_combined = df_combined.merge(group_mean_hpna, on=['CryoSleep', 'Destination'], how='left')\n",
    "# df_combined = df_combined.merge(group_mean_dtna, on=['CryoSleep', 'HomePlanet'], how='left')\n",
    "\n",
    "# df_combined['Age'] = df_combined.apply(\n",
    "#     lambda row: row['Age_mean_hpna'] if pd.isnull(row['HomePlanet']) and not pd.isnull(row['Age_mean_hpna']) \n",
    "#     else row['Age_mean_dtna'] if pd.isnull(row['Destination']) and not pd.isnull(row['Age_mean_dtna']) \n",
    "#     else row['Age'],\n",
    "#     axis=1\n",
    "# )\n",
    "\n",
    "# df_combined.drop(columns=['Age_mean_hpna', 'Age_mean_dtna'], inplace=True)"
   ]
  },
  {
   "cell_type": "code",
   "execution_count": null,
   "metadata": {},
   "outputs": [],
   "source": [
    "pd.pivot_table(df_combined, index='Transported', columns='Deck', values='PassengerId', aggfunc='count')"
   ]
  },
  {
   "cell_type": "code",
   "execution_count": null,
   "metadata": {},
   "outputs": [],
   "source": [
    "# since the data for money_col is very skewed, take log and then standardize\n",
    "# taking log\n",
    "\n",
    "for column in money_col:\n",
    "    df_combined[column + '_log'] = np.log1p(df_combined[column])\n"
   ]
  },
  {
   "cell_type": "code",
   "execution_count": null,
   "metadata": {},
   "outputs": [],
   "source": [
    "from sklearn.preprocessing import StandardScaler"
   ]
  },
  {
   "cell_type": "code",
   "execution_count": null,
   "metadata": {},
   "outputs": [],
   "source": [
    "# standardization\n",
    "scaler = StandardScaler()\n",
    "\n",
    "money_col_log = ['RoomService_log', 'FoodCourt_log', 'ShoppingMall_log', 'Spa_log', 'VRDeck_log']\n",
    "scaled_columns = scaler.fit_transform(df_combined[money_col_log])\n",
    "for i, col in enumerate(money_col_log):\n",
    "    df_combined[col + '_scaled'] = scaled_columns[:, i]"
   ]
  },
  {
   "cell_type": "code",
   "execution_count": null,
   "metadata": {},
   "outputs": [],
   "source": [
    "# perform one-hot encoding for categorical variables that will be used\n",
    "\n",
    "df_combined = pd.get_dummies(df_combined, columns=['HomePlanet', 'Deck', 'Side', 'Destination'])"
   ]
  },
  {
   "cell_type": "code",
   "execution_count": null,
   "metadata": {},
   "outputs": [],
   "source": [
    "df_combined.isna().sum()"
   ]
  },
  {
   "cell_type": "code",
   "execution_count": null,
   "metadata": {},
   "outputs": [],
   "source": [
    "missing_age = df_combined[df_combined['Age'].isnull()]\n",
    "missing_age[['CryoSleep', 'HomePlanet', 'Destination']]"
   ]
  },
  {
   "cell_type": "code",
   "execution_count": null,
   "metadata": {},
   "outputs": [],
   "source": []
  }
 ],
 "metadata": {
  "kernelspec": {
   "display_name": "Python 3",
   "language": "python",
   "name": "python3"
  },
  "language_info": {
   "codemirror_mode": {
    "name": "ipython",
    "version": 3
   },
   "file_extension": ".py",
   "mimetype": "text/x-python",
   "name": "python",
   "nbconvert_exporter": "python",
   "pygments_lexer": "ipython3",
   "version": "3.9.6"
  }
 },
 "nbformat": 4,
 "nbformat_minor": 2
}
